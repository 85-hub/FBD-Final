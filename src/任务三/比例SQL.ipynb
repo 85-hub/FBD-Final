{
 "cells": [
  {
   "cell_type": "code",
   "execution_count": 145,
   "metadata": {},
   "outputs": [],
   "source": [
    "from operator import add\n",
    "from pyspark.sql import SparkSession\n",
    "import sys\n",
    "import pyspark.sql.functions\n",
    "import pandas as pd"
   ]
  },
  {
   "cell_type": "code",
   "execution_count": 146,
   "metadata": {},
   "outputs": [],
   "source": [
    "spark = SparkSession.builder.appName(\"sexAgeRatio\").getOrCreate()\n"
   ]
  },
  {
   "cell_type": "code",
   "execution_count": 147,
   "metadata": {},
   "outputs": [],
   "source": [
    "df1 = spark.read.options(header='True', inferSchema='False', delimiter=',')\\\n",
    ".csv(\"PycharmProjects/FBD-Final/src/user_log_format1.csv\")"
   ]
  },
  {
   "cell_type": "code",
   "execution_count": 148,
   "metadata": {},
   "outputs": [
    {
     "name": "stdout",
     "output_type": "stream",
     "text": [
      "+-------+-------+------+---------+--------+----------+-----------+\n",
      "|user_id|item_id|cat_id|seller_id|brand_id|time_stamp|action_type|\n",
      "+-------+-------+------+---------+--------+----------+-----------+\n",
      "| 328862| 323294|   833|     2882|    2661|      0829|          0|\n",
      "| 328862| 844400|  1271|     2882|    2661|      0829|          0|\n",
      "| 328862| 575153|  1271|     2882|    2661|      0829|          0|\n",
      "| 328862| 996875|  1271|     2882|    2661|      0829|          0|\n",
      "| 328862|1086186|  1271|     1253|    1049|      0829|          0|\n",
      "| 328862| 623866|  1271|     2882|    2661|      0829|          0|\n",
      "| 328862| 542871|  1467|     2882|    2661|      0829|          0|\n",
      "| 328862| 536347|  1095|      883|    1647|      0829|          0|\n",
      "| 328862| 364513|  1271|     2882|    2661|      0829|          0|\n",
      "| 328862| 575153|  1271|     2882|    2661|      0829|          0|\n",
      "| 328862| 239288|   602|      420|    4953|      0801|          0|\n",
      "| 328862| 950862|   962|     4605|    7622|      0801|          0|\n",
      "| 328862| 262500|   602|      420|    4953|      0801|          0|\n",
      "| 328862|1064265|   614|     4605|    7622|      0801|          0|\n",
      "| 328862| 809148|   602|      420|    4953|      0801|          0|\n",
      "| 328862| 197239|   602|      420|    4953|      0801|          0|\n",
      "| 328862|  43367|  1505|     3828|    1446|      0526|          0|\n",
      "| 328862| 844535|   302|     3354|     883|      0526|          0|\n",
      "| 328862| 886633|  1505|     3828|    1446|      0526|          0|\n",
      "| 328862|  81766|   614|     4605|    7622|      0709|          2|\n",
      "+-------+-------+------+---------+--------+----------+-----------+\n",
      "only showing top 20 rows\n",
      "\n"
     ]
    }
   ],
   "source": [
    "df1.show()"
   ]
  },
  {
   "cell_type": "code",
   "execution_count": 149,
   "metadata": {},
   "outputs": [],
   "source": [
    "df1=df1.filter(df1.action_type=='2').select('user_id').distinct()"
   ]
  },
  {
   "cell_type": "code",
   "execution_count": 150,
   "metadata": {},
   "outputs": [
    {
     "name": "stdout",
     "output_type": "stream",
     "text": [
      "+-------+\n",
      "|user_id|\n",
      "+-------+\n",
      "| 100263|\n",
      "| 148631|\n",
      "|  88140|\n",
      "| 225241|\n",
      "| 271564|\n",
      "| 237724|\n",
      "|  81824|\n",
      "| 179022|\n",
      "| 363694|\n",
      "| 319755|\n",
      "| 223506|\n",
      "| 254821|\n",
      "|  59072|\n",
      "| 361186|\n",
      "| 419208|\n",
      "|  51550|\n",
      "| 155658|\n",
      "| 323208|\n",
      "|  91959|\n",
      "| 151010|\n",
      "+-------+\n",
      "only showing top 20 rows\n",
      "\n"
     ]
    }
   ],
   "source": [
    "df1.show()"
   ]
  },
  {
   "cell_type": "code",
   "execution_count": 158,
   "metadata": {},
   "outputs": [],
   "source": [
    "df2 = spark.read.options(header='True', inferSchema='False', delimiter=',')\\\n",
    ".csv(\"PycharmProjects/FBD-Final/src/user_info_format1.csv\")"
   ]
  },
  {
   "cell_type": "code",
   "execution_count": 159,
   "metadata": {},
   "outputs": [
    {
     "name": "stdout",
     "output_type": "stream",
     "text": [
      "+-------+---------+------+\n",
      "|user_id|age_range|gender|\n",
      "+-------+---------+------+\n",
      "| 376517|        6|     1|\n",
      "| 234512|        5|     0|\n",
      "| 344532|        5|     0|\n",
      "| 186135|        5|     0|\n",
      "|  30230|        5|     0|\n",
      "| 272389|        6|     1|\n",
      "| 281071|        4|     0|\n",
      "| 139859|        7|     0|\n",
      "| 198411|        5|     1|\n",
      "|  67037|        4|     1|\n",
      "| 149002|        5|     2|\n",
      "|   7468|        4|     0|\n",
      "|  94292|        4|     0|\n",
      "| 347414|        6|     1|\n",
      "| 191719|        4|     0|\n",
      "| 391524|        5|     1|\n",
      "| 153790|        6|     0|\n",
      "| 349112|        3|     1|\n",
      "| 344766|        6|     0|\n",
      "|  81816|        5|     0|\n",
      "+-------+---------+------+\n",
      "only showing top 20 rows\n",
      "\n"
     ]
    }
   ],
   "source": [
    "df2.show()"
   ]
  },
  {
   "cell_type": "code",
   "execution_count": 161,
   "metadata": {},
   "outputs": [],
   "source": [
    "df2=df2.filter(df2.age_range<\"9\").filter(df2.age_range>\"0\").filter(df2.gender!=\"2\").filter(df2.gender!=\"\")\\\n",
    ".dropDuplicates(subset=[c for c in df.columns if c in [\"user_id\"]])"
   ]
  },
  {
   "cell_type": "code",
   "execution_count": 162,
   "metadata": {},
   "outputs": [
    {
     "name": "stdout",
     "output_type": "stream",
     "text": [
      "+-------+---------+------+\n",
      "|user_id|age_range|gender|\n",
      "+-------+---------+------+\n",
      "| 100010|        5|     1|\n",
      "| 100140|        6|     1|\n",
      "| 100227|        4|     0|\n",
      "| 100263|        5|     0|\n",
      "| 100320|        5|     0|\n",
      "| 100553|        4|     1|\n",
      "| 100704|        3|     0|\n",
      "| 100768|        4|     1|\n",
      "|  10096|        3|     1|\n",
      "| 100964|        5|     1|\n",
      "| 101021|        3|     1|\n",
      "| 101122|        4|     1|\n",
      "| 101205|        3|     0|\n",
      "| 101261|        6|     0|\n",
      "| 101272|        2|     0|\n",
      "| 102113|        5|     0|\n",
      "| 102536|        3|     0|\n",
      "| 102539|        3|     0|\n",
      "| 102684|        6|     0|\n",
      "| 102745|        7|     1|\n",
      "+-------+---------+------+\n",
      "only showing top 20 rows\n",
      "\n"
     ]
    }
   ],
   "source": [
    "df2.show()"
   ]
  },
  {
   "cell_type": "code",
   "execution_count": 163,
   "metadata": {},
   "outputs": [],
   "source": [
    "df3=df1.join(df2, \"user_id\", \"left\").select(\"user_id\", \"age_range\", \"gender\")"
   ]
  },
  {
   "cell_type": "code",
   "execution_count": 164,
   "metadata": {},
   "outputs": [
    {
     "name": "stdout",
     "output_type": "stream",
     "text": [
      "+-------+---------+------+\n",
      "|user_id|age_range|gender|\n",
      "+-------+---------+------+\n",
      "| 100263|        5|     0|\n",
      "| 148631|        5|     1|\n",
      "|  88140|        5|     1|\n",
      "| 225241|     null|  null|\n",
      "| 271564|     null|  null|\n",
      "| 237724|        5|     1|\n",
      "|  81824|        4|     1|\n",
      "| 179022|        4|     1|\n",
      "| 363694|        4|     0|\n",
      "| 319755|        5|     0|\n",
      "| 223506|        4|     0|\n",
      "| 254821|     null|  null|\n",
      "|  59072|        3|     1|\n",
      "| 361186|        4|     0|\n",
      "| 419208|        6|     1|\n",
      "|  51550|        6|     1|\n",
      "| 155658|        3|     0|\n",
      "| 323208|        4|     0|\n",
      "|  91959|     null|  null|\n",
      "| 151010|        5|     1|\n",
      "+-------+---------+------+\n",
      "only showing top 20 rows\n",
      "\n"
     ]
    }
   ],
   "source": [
    "df3.show()"
   ]
  },
  {
   "cell_type": "code",
   "execution_count": 165,
   "metadata": {},
   "outputs": [],
   "source": [
    "resSex = df3.groupby(\"gender\").count()"
   ]
  },
  {
   "cell_type": "code",
   "execution_count": 166,
   "metadata": {},
   "outputs": [
    {
     "name": "stdout",
     "output_type": "stream",
     "text": [
      "+------+------+\n",
      "|gender| count|\n",
      "+------+------+\n",
      "|     0|218825|\n",
      "|  null|106330|\n",
      "|     1| 99015|\n",
      "+------+------+\n",
      "\n"
     ]
    }
   ],
   "source": [
    "resSex.show()"
   ]
  },
  {
   "cell_type": "code",
   "execution_count": 167,
   "metadata": {},
   "outputs": [],
   "source": [
    "resAge = df3.groupby(\"age_range\").count()"
   ]
  },
  {
   "cell_type": "code",
   "execution_count": 168,
   "metadata": {},
   "outputs": [
    {
     "name": "stdout",
     "output_type": "stream",
     "text": [
      "+---------+------+\n",
      "|age_range| count|\n",
      "+---------+------+\n",
      "|        7|  6849|\n",
      "|        3|107826|\n",
      "|        8|  1210|\n",
      "|     null|106330|\n",
      "|        5| 39285|\n",
      "|        6| 34905|\n",
      "|        1|    24|\n",
      "|        4| 75740|\n",
      "|        2| 52001|\n",
      "+---------+------+\n",
      "\n"
     ]
    }
   ],
   "source": [
    "resAge.show()"
   ]
  },
  {
   "cell_type": "code",
   "execution_count": 141,
   "metadata": {},
   "outputs": [],
   "source": [
    "#resAge.write.csv(\"PycharmProjects/FBD-Final/output/test.csv\" ) 似乎不行，每一行都是一个文件"
   ]
  },
  {
   "cell_type": "code",
   "execution_count": 144,
   "metadata": {},
   "outputs": [],
   "source": [
    "resAge.toPandas().to_csv('PycharmProjects/FBD-Final/output/任务三/ageRatioSQL.csv')\n",
    "resSex.toPandas().to_csv('PycharmProjects/FBD-Final/output/任务三/sexRatioSQL.csv')"
   ]
  },
  {
   "cell_type": "code",
   "execution_count": null,
   "metadata": {},
   "outputs": [],
   "source": []
  }
 ],
 "metadata": {
  "kernelspec": {
   "display_name": "Python 3",
   "language": "python",
   "name": "python3"
  },
  "language_info": {
   "codemirror_mode": {
    "name": "ipython",
    "version": 3
   },
   "file_extension": ".py",
   "mimetype": "text/x-python",
   "name": "python",
   "nbconvert_exporter": "python",
   "pygments_lexer": "ipython3",
   "version": "3.7.4"
  }
 },
 "nbformat": 4,
 "nbformat_minor": 2
}
